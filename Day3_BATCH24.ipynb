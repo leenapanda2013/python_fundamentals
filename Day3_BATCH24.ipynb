{
 "cells": [
  {
   "cell_type": "code",
   "execution_count": 10,
   "metadata": {},
   "outputs": [
    {
     "name": "stdout",
     "output_type": "stream",
     "text": [
      "Hello!!leenapanda\n",
      "Hello!!Leenapanda\n",
      "Hello, Hello!!Leenapanda\n",
      "fav_languages:\n",
      "python\n",
      "\truby\n",
      "C\n",
      "java\n",
      "\tC++\n"
     ]
    }
   ],
   "source": [
    "firstname = 'leena'\n",
    "lastname = 'panda'\n",
    "full_name=f\"Hello!!{firstname}{lastname}\"\n",
    "print(full_name)\n",
    "print(full_name.title())\n",
    "print(f\"Hello, {full_name.title()}\")\n",
    "print(\"fav_languages:\\npython\\n\\truby\\nC\\njava\\n\\tC++\")"
   ]
  },
  {
   "cell_type": "code",
   "execution_count": null,
   "metadata": {},
   "outputs": [],
   "source": []
  }
 ],
 "metadata": {
  "kernelspec": {
   "display_name": "Python 3",
   "language": "python",
   "name": "python3"
  },
  "language_info": {
   "codemirror_mode": {
    "name": "ipython",
    "version": 3
   },
   "file_extension": ".py",
   "mimetype": "text/x-python",
   "name": "python",
   "nbconvert_exporter": "python",
   "pygments_lexer": "ipython3",
   "version": "3.7.6"
  }
 },
 "nbformat": 4,
 "nbformat_minor": 4
}
