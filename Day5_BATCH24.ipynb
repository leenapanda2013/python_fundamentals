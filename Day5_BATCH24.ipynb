{
 "cells": [
  {
   "cell_type": "code",
   "execution_count": 33,
   "metadata": {},
   "outputs": [
    {
     "name": "stdout",
     "output_type": "stream",
     "text": [
      "keep up the good work, geeta\n",
      "keep up the good work, subhash\n",
      "keep up the good work, tanya\n",
      "\n",
      "\n",
      "indentation check, by geeta\n",
      "indentation check by, Tanya\n"
     ]
    }
   ],
   "source": [
    "my_students =[ 'geeta', 'subhash', 'tanya']\n",
    "for students in my_students:\n",
    "    print(f\"keep up the good work, {students}\")    \n",
    "print(f\"\\n\")    \n",
    "print(f\"indentation check, by {my_students[0]}\")\n",
    "print(f\"indentation check by, {my_students[2].title()}\")"
   ]
  },
  {
   "cell_type": "code",
   "execution_count": null,
   "metadata": {},
   "outputs": [],
   "source": []
  }
 ],
 "metadata": {
  "kernelspec": {
   "display_name": "Python 3",
   "language": "python",
   "name": "python3"
  },
  "language_info": {
   "codemirror_mode": {
    "name": "ipython",
    "version": 3
   },
   "file_extension": ".py",
   "mimetype": "text/x-python",
   "name": "python",
   "nbconvert_exporter": "python",
   "pygments_lexer": "ipython3",
   "version": "3.7.6"
  }
 },
 "nbformat": 4,
 "nbformat_minor": 4
}
